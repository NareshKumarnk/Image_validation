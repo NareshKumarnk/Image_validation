{
 "cells": [
  {
   "cell_type": "code",
   "execution_count": 2,
   "metadata": {
    "collapsed": true
   },
   "outputs": [],
   "source": [
    "# import pandas as pd;\n",
    "import cv2\n",
    "import pytesseract"
   ]
  },
  {
   "cell_type": "code",
   "execution_count": 14,
   "metadata": {
    "pycharm": {
     "name": "#%%\n"
    }
   },
   "outputs": [],
   "source": [
    "img1 = cv2.imread(\"img/sma1.jpg\")\n",
    "img2 = cv2.imread(\"img/sma2.jpg\")\n",
    "pytesseract.pytesseract.tesseract_cmd = r'C:\\Program Files\\Tesseract-OCR\\tesseract.exe'\n",
    "# cv2.imshow(\"Image\", img1)\n",
    "# cv2.waitKey(0)\n",
    "# cv2.destroyAllWindows()\n",
    "# print(img1.shape)\n",
    "# h = int(h/3)\n",
    "def crop_img(img):\n",
    "    h,w = img.shape[0],img.shape[1]\n",
    "    cropped_img = img[0:int(h/3),0:int(w-(w/3))]\n",
    "    return cropped_img;\n",
    "cropped_img1 = crop_img(img1)\n",
    "cropped_img2 = crop_img(img2)\n",
    "cv2.imshow(\"Image\", cropped_img1)\n",
    "cv2.waitKey(0)\n",
    "cv2.destroyAllWindows()"
   ]
  },
  {
   "cell_type": "code",
   "execution_count": 8,
   "metadata": {
    "pycharm": {
     "name": "#%%\n"
    }
   },
   "outputs": [
    {
     "name": "stdout",
     "output_type": "stream",
     "text": [
      "€ Vivek RKMV\n",
      "\n",
      "46 minutes ago\n",
      "\f",
      "\n",
      "----------------------------------------\n",
      "€ (#3) M.Hari®\n",
      "Today, 11:55 am\n",
      "\n",
      " \n",
      "\n",
      " \n",
      "\f",
      "\n"
     ]
    }
   ],
   "source": [
    "text = pytesseract.image_to_string(cropped_img1)\n",
    "print(text)\n",
    "print(\"----------------------------------------\")\n",
    "text2 = pytesseract.image_to_string(img2)\n",
    "print(text2)\n",
    "# text.split(' ')"
   ]
  },
  {
   "cell_type": "code",
   "execution_count": null,
   "metadata": {
    "pycharm": {
     "name": "#%%\n"
    }
   },
   "outputs": [],
   "source": []
  }
 ],
 "metadata": {
  "kernelspec": {
   "display_name": "Python 3 (ipykernel)",
   "language": "python",
   "name": "python3"
  },
  "language_info": {
   "codemirror_mode": {
    "name": "ipython",
    "version": 3
   },
   "file_extension": ".py",
   "mimetype": "text/x-python",
   "name": "python",
   "nbconvert_exporter": "python",
   "pygments_lexer": "ipython3",
   "version": "3.9.5"
  }
 },
 "nbformat": 4,
 "nbformat_minor": 1
}
