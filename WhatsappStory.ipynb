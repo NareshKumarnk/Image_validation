{
 "cells": [
  {
   "cell_type": "code",
   "execution_count": 2,
   "metadata": {
    "collapsed": true
   },
   "outputs": [],
   "source": [
    "# import pandas as pd;\n",
    "import cv2\n",
    "import pytesseract\n",
    "import matplotlib.pyplot as plt\n",
    "import numpy as np;"
   ]
  },
  {
   "cell_type": "code",
   "execution_count": 37,
   "metadata": {
    "pycharm": {
     "name": "#%%\n"
    }
   },
   "outputs": [],
   "source": [
    "img1 = cv2.imread(\"img/sma1.jpg\")\n",
    "img2 = cv2.imread(\"img/sma2.jpg\")\n",
    "img3 = cv2.imread(\"img/sma6.jpg\")\n",
    "img4 = cv2.imread(\"img/sma9.jpg\")\n",
    "img5 = cv2.imread(\"img/sample4.jpg\")\n",
    "pytesseract.pytesseract.tesseract_cmd = r'C:\\Program Files\\Tesseract-OCR\\tesseract.exe'\n",
    "\n",
    "def crop_img(img):\n",
    "    h,w = img.shape[0],img.shape[1]\n",
    "    cropped_img = img[0:int(h/8),int((w-w/1.21)):int(w/2)]\n",
    "    return cropped_img\n",
    "\n",
    "def img_to_gray(img):\n",
    "    image = cv2.cvtColor(img, cv2.COLOR_BGR2RGB)\n",
    "    ret, thresh = cv2.threshold(image, 120, 255, cv2.THRESH_TRUNC)\n",
    "    return thresh\n",
    "\n",
    "cropped_img1 = crop_img(img1)\n",
    "cropped_img2 = crop_img(img2)\n",
    "cropped_img3 = crop_img(img3)\n",
    "cropped_img4 = crop_img(img4)\n",
    "grap_img = img_to_gray(cropped_img4)\n",
    "cv2.imshow(\"Image\", cropped_img4)\n",
    "cv2.waitKey(0)\n",
    "cv2.destroyAllWindows()"
   ]
  },
  {
   "cell_type": "code",
   "execution_count": 40,
   "metadata": {
    "pycharm": {
     "name": "#%%\n"
    }
   },
   "outputs": [
    {
     "name": "stdout",
     "output_type": "stream",
     "text": [
      " \n",
      "\n",
      "My status\n",
      "\n",
      "Just now\n",
      "\n",
      " \n",
      "\f\n",
      "----------------------------------------\n",
      "Me\n",
      "7:29 PM\n",
      "\f\n"
     ]
    },
    {
     "data": {
      "text/plain": "[' ', '', 'My status', '', 'Just now', '', ' ', '\\x0c']"
     },
     "execution_count": 40,
     "metadata": {},
     "output_type": "execute_result"
    }
   ],
   "source": [
    "text = pytesseract.image_to_string(cropped_img4)\n",
    "print(text)\n",
    "print(\"----------------------------------------\")\n",
    "text2 = pytesseract.image_to_string(cropped_img3)\n",
    "print(text2)\n",
    "text.split('\\n')"
   ]
  },
  {
   "cell_type": "code",
   "execution_count": 59,
   "metadata": {
    "pycharm": {
     "name": "#%%\n"
    }
   },
   "outputs": [],
   "source": []
  }
 ],
 "metadata": {
  "kernelspec": {
   "display_name": "Python 3 (ipykernel)",
   "language": "python",
   "name": "python3"
  },
  "language_info": {
   "codemirror_mode": {
    "name": "ipython",
    "version": 3
   },
   "file_extension": ".py",
   "mimetype": "text/x-python",
   "name": "python",
   "nbconvert_exporter": "python",
   "pygments_lexer": "ipython3",
   "version": "3.9.5"
  }
 },
 "nbformat": 4,
 "nbformat_minor": 1
}